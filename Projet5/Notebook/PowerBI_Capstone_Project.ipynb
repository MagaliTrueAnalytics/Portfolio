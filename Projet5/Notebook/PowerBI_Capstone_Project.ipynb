{
  "metadata": {
    "kernelspec": {
      "name": "python",
      "display_name": "Python (Pyodide)",
      "language": "python"
    },
    "language_info": {
      "codemirror_mode": {
        "name": "python",
        "version": 3
      },
      "file_extension": ".py",
      "mimetype": "text/x-python",
      "name": "python",
      "nbconvert_exporter": "python",
      "pygments_lexer": "ipython3",
      "version": "3.8"
    }
  },
  "nbformat_minor": 5,
  "nbformat": 4,
  "cells": [
    {
      "id": "20f268b5-729e-4c9e-8d61-1318bcf8a92d",
      "cell_type": "markdown",
      "source": "<div style=\"background-color:#e68867; padding:10px; border:2px solid black;\">\n    <h1><b>Quality | Ethics | Transparency</b></h1>\n</div>",
      "metadata": {}
    },
    {
      "id": "6668992f-3471-4fb1-83aa-b20c40b5512d",
      "cell_type": "markdown",
      "source": "<div style=\"background-color:#c7cbe9; padding:10px;border:2px solid black;\">\n<h2>📌 Power BI Capstone Project – Tailwind Traders Sales & Profit Analysis 💰</h2>\n   \n🔹 **Author** : MagaliTrueAnalytics  \n🔹 **Date** : 2025-07-13 \n🔹 **Sources** : (https://github.com/MagaliTrueAnalytics/Portfolio/blob/main/Projet5/)  \n🔹 **Objective** : This capstone project showcases a complete Power BI implementation for Tailwind Traders.  \nThe goal is to analyze the company’s sales and profit trends, design insightful reports, and simulate the deployment process using Power BI Service. \n\nThrough this project, we will:\n\n✅Create detailed visual reports with key metrics on sales and gross vs. net profit  \n✅Publish the reports to Power BI Service  \n✅Build a dynamic and responsive dashboard for desktop and mobile views  \n✅Configure subscriptions and alerts to simulate enterprise-level deployment  \n\n</div>",
      "metadata": {}
    },
    {
      "id": "ee5394b2-131a-4a3b-bac9-780eab8c48d6",
      "cell_type": "markdown",
      "source": "<div style=\"background-color:#c7cbe9; padding:10px;border:2px solid black;\">\n    \n<h2>📈 Dataset Preparation & Data Modeling</h2>\n</div>",
      "metadata": {}
    },
    {
      "id": "67523364-4aa9-4abd-9667-5304973896cb",
      "cell_type": "markdown",
      "source": "The Tailwind Traders data model is built from four key sources that support both regional and transactional insights:\n\n### 💲 Sales Data (Excel format)\nContains detailed product-level transactions used to:\n- Analyze pricing strategies and sales performance\n- Monitor customer purchasing behavior\n\n**Key Fields**:\n- `Gross Product Price`\n- `Tax Per Product`\n- `Quantity Purchased`\n- `Loyalty Points`, `Stock`\n- `Product Category`\n- `Rating`\n- `Gross Revenue`, `Net Revenue` – Calculated columns added manually\n\n### 📁 Purchases Data (Excel format)\nCaptures supplier-side and post-sale logistics, allowing:\n- Evaluation of procurement practices  \n- Analysis of returns and warranty coverage\n\n**Key Fields**:\n- `PurchaseID`, `OrderID`\n- `Purchase Date`, `Last Visited`  \n- `Warranty (Months)`, `Return Policy (Days)`  \n- `Supplier`\n- `ReturnStatus`\n\n### 🌍 Country Metadata (Excel format)\nEnables region-based segmentation and links to currency conversion:\n- `Country ID`   \n- `Country`\n- `Exchange ID`  \n\n### 💱 Currency Exchange Rates (CSV file)\nOriginally designed to run via Python in Power BI Desktop, but due to hardware constraints:\n- Script was executed in a **cloud-based IDE (VS Code via GitHub)**  \n- Output was saved as CSV and manually imported\n\n**Fields**:\n- `Exchange ID`\n- `Exchange Rate`\n- `Exchange Currency`\n\n### 🔄 Data Integration & Transformation\nAll four datasets were imported using Power BI’s *Get Data* feature.  \nTransformations in **Power Query** included:\n- Data type validation and assignment  \n- Structural review before integration\n\n### 🧬 Data Model Construction\nA **Snowflake schema** was designed to improve modularity and reporting efficiency:\n- Referential integrity ensured across all joins  \n- Cardinalities reviewed and adjusted for optimal performance  \n- Relationship keys validated before report creation\n- A dynamic **Calendar table** was created using DAX functions  \n  - Enables accurate *Time Intelligence* analysis (e.g. YTD, custom periods)  \n  - Structured with `Date`, `Year`, `Month`, `Quarter`, and `Week` \n  - Set as the **date dimension** to drive all time-based visuals and metrics ",
      "metadata": {}
    },
    {
      "id": "ef693432-d1ee-43d6-adcd-babac529b6e3",
      "cell_type": "markdown",
      "source": "<div style=\"background-color:#c7cbe9; padding:10px;border:2px solid black;\">\n    \n<h2>📐 DAX Measures & Financial Modeling</h2>\n</div>",
      "metadata": {}
    },
    {
      "id": "bb9456a2-fc8b-42d3-b49a-68d20cb93d24",
      "cell_type": "markdown",
      "source": "To build a finance-oriented report for Tailwind Traders, custom calculations had to be implemented using DAX due to missing product cost data.\n\n### ⚙️ Cost Estimation Strategy\nThe original `Sales` table only included:\n- `Gross Revenue`\n- `Tax per Product`\n- `Net Revenue` (gross minus taxes)\n\nHowever, the dataset lacked **Cost of Goods Sold** (COGS), preventing accurate profit analysis.  \nAfter consulting community forums, I sourced a method to infer the **Cost per Unit**, which was added manually to the dataset.\n\nFrom this cost estimation:\n- ➕ `Cost per Order` column was created  \n- 💰 `Profit` column was calculated as:  \n  `Profit = Net Revenue - Cost per Order`\n\n### 💵 Currency Conversion & Sales USD Table\nA new table, `Sales USD`, was created via DAX:\n- Merged financial data from the `Sales` table with the exchange rates in `CurrencyExchange`\n- Converted all revenue and cost figures to USD for consistency and comparability\n- This table serves as the core dataset for the final report\n\n### 📊 Key DAX Measures Implemented\nUsing `Sales USD` and the `Calendar` table:\n- `Yearly Profit Margin`  \n- `Quarterly Profit Margin`  \n- `YTD Profit Margin` (leveraging Time Intelligence filters)  \n- `Median Gross Revenue` (static and dynamic) for trend line visualizations\n\nAll financial KPIs were calculated in real-time within the report visuals, ensuring interactivity and actionable insights.\n\n### 📅 Time Intelligence Enablement\nThese DAX measures are powered by the **Calendar** table created earlier, allowing for:\n- Seasonality and quarterly trend detection  \n- Real-time filtering across fiscal periods ",
      "metadata": {}
    },
    {
      "id": "456f66a7-19e1-48b2-ab5f-4b61f28832cd",
      "cell_type": "markdown",
      "source": "<div style=\"background-color:#c7cbe9; padding:10px;border:2px solid black;\">\n<h2>📊Report Design & Visualization in Power BI</h2>\n</div>",
      "metadata": {}
    },
    {
      "id": "86491eaf-d4da-4593-9d1f-8875ae34357a",
      "cell_type": "markdown",
      "source": "The report was built in Power BI Desktop and contains **two interactive pages**, optimized for financial insight and user navigation:\n\n---\n\n### 📄 Page 1 – Sales Overview\n\nFocuses on product performance and customer interaction metrics.  \nIncludes the following visuals:\n\n- 🔢 `Quantity Purchased Total` – Card  \n- 💵 `Median Sales` – Card  \n- 📦 `Stock Levels` – Card  \n- 🌍 `Loyalty Points by Country` – Bar Chart  \n- 📊 `Quantity Sold by Product` – Column Chart  \n- 🥧 `Median Sales Distribution by Country` – Pie Chart  \n- 📈 `Median Sales Over Time` – Line Chart  \n\n➡️ **Country Slicer** allows filtering all visuals based on the selected region.\n\n---\n\n### 📄 Page 2 – Profit Overview\n\nHighlights key financial KPIs and profitability trends.  \nIncludes the following visuals:\n\n- 💸 `YTD Profit Margin` – Card  \n- 💰 `Net Revenue (USD)` – Card  \n- 💲 `Gross Revenue (USD)` – KPI  \n- 📦 `Net Revenue by Product` – Bar Chart  \n- 🍩 `Yearly Profit Margin by Country` – Donut Chart  \n- ⛰️ `Yearly Profit Margin Over Time` – Area Chart\n\n➡️ Visuals leverage data from the `Sales USD` and `Calendar` tables, enabling dynamic trend analysis and user interaction.\n\n---\n\nEach page was carefully designed to combine clarity with analytical power, guiding stakeholders through performance drivers and strategic metrics.",
      "metadata": {}
    },
    {
      "id": "44b2db93-2bca-4975-a1cd-f07980f9819f",
      "cell_type": "markdown",
      "source": "<div style=\"background-color:#c7cbe9; padding:10px;border:2px solid black;\">\n<h2>📣🚀 Deployment & Publishing in Power BI Service</h2>\n</div>",
      "metadata": {}
    },
    {
      "id": "35594ae6-e900-410c-9dc5-f75a9861f076",
      "cell_type": "markdown",
      "source": "After building the report in Power BI Desktop, it was published to **Power BI Service** for cloud accessibility and enterprise simulation.\n\n### 📌 Dashboard Creation\n- Visuals from both report pages were **pinned** to a central dashboard  \n- Enabled quick access to KPIs and comparative views across reports\n\n### 📱 Mobile Layout Design\n- A dedicated layout was created using **Mobile View** to ensure readability on smaller screens  \n- Key visuals were reorganized to maximize responsiveness and usability in mobile mode\n\n### 🔔 KPI Alerts & Thresholds\n- An **alert** was configured for the `Gross Revenue` KPI  \n- Triggered when value drops below **$400**, enabling proactive decision-making  \n\n### 📬 Subscriptions Setup\nTo simulate automated report distribution in a corporate setting:\n\n- **Sales Weekly Subscription**  \n  - 📅 Every **Sunday at 5:00 AM**  \n\n\n- **Sales Monthly Subscription**  \n  - 📆 On the **first day of each month at 5:00 AM**  \n\n\n- **Profit Weekly Subscription**  \n  - 📆 Every **Monday, Wednesday, and Friday at 6:00 AM**\n\nThese subscriptions ensure stakeholders receive regular updates tailored to their review cadence and strategic priorities.",
      "metadata": {}
    },
    {
      "id": "930d8bb2-d08c-4419-8190-c6f0a63792b0",
      "cell_type": "markdown",
      "source": "<div style=\"background-color:#c7cbe9; padding:10px;border:2px solid black;\">\n<h2>📁 Final Deliverables & Result Presentation</h2>\n</div>",
      "metadata": {}
    },
    {
      "id": "ab287f9a-1ab4-4983-aea5-8af36c4d22c8",
      "cell_type": "markdown",
      "source": "The Tailwind Traders analytics solution was finalized with a set of digital assets that simulate real-world reporting and enterprise deployment:\n\n### 🖨️ Report Export – PDF\n- The final report was exported from Power BI Desktop as a **PDF document**\n- Serves as a static version for stakeholder presentation and archiving\n- Includes both pages: *Sales Overview* and *Profit Overview*\n\n📌 File: `Tailwind_Traders_Report.pdf`\n[link](https://github.com/MagaliTrueAnalytics/Portfolio/blob/main/Projet5/Report/Tailwind_Traders_Report.pdf)\n\n---\n\n### 💾 Power BI File – PBIX Format\n- Full interactive report saved as a `.pbix` file\n- Contains data model, DAX measures, visuals, mobile layout, subscriptions, and alert configuration\n- Can be reopened in Power BI Desktop or shared with collaborators\n\n📌 File: `Tailwind_Traders_Analytics.pbix`\n[link](https://github.com/MagaliTrueAnalytics/Portfolio/blob/main/Projet5/Report/Tailwind_Traders_Analytics.pbix)\n\n---\n\n### 📸 Visual Documentation – Power BI Service Screenshots\n\nTo illustrate deployment and interactivity in the cloud:\n\n#### 📊 Dashboard View\nScreenshot of the centralized dashboard created by *pinning visuals* from both report pages  \nHighlights key KPIs including Gross Revenue, YTD Profit Margin, and Loyalty Points by Country\n\n#### 📱 Mobile Layout\nScreenshot of the mobile view designed via *Mobile Layout Editor*  \nShows responsive adaptation of visuals for smartphone use\n\n#### 🔔 Alerts & 📬 Subscriptions\nScreenshots capturing:\n- Alert configuration panel for `Gross Revenue < $400`  \n- The subscription menu showing:\n  - Weekly Sales (Sunday 5:00 AM)\n  - Monthly Sales (Monthly 5:00 AM)\n  - Profit Weekly (Mon/Wed/Fri at 6:00 AM)\n\n[Power BI Service Screenshot](https://github.com/MagaliTrueAnalytics/Portfolio/blob/main/Projet5/Report/)\n\n---\n\nAll deliverables were tested for usability, clarity, and alignment with Tailwind Traders’ business case.  \nTogether, they demonstrate a full Power BI solution lifecycle—from dataset ingestion to enterprise-ready deployment.\n",
      "metadata": {}
    }
  ]
}