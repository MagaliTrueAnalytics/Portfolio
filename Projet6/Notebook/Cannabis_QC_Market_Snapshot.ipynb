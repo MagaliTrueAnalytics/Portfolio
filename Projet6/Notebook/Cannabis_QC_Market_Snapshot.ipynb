{
  "metadata": {
    "kernelspec": {
      "name": "python",
      "display_name": "Python (Pyodide)",
      "language": "python"
    },
    "language_info": {
      "codemirror_mode": {
        "name": "python",
        "version": 3
      },
      "file_extension": ".py",
      "mimetype": "text/x-python",
      "name": "python",
      "nbconvert_exporter": "python",
      "pygments_lexer": "ipython3",
      "version": "3.8"
    }
  },
  "nbformat_minor": 5,
  "nbformat": 4,
  "cells": [
    {
      "id": "20f268b5-729e-4c9e-8d61-1318bcf8a92d",
      "cell_type": "markdown",
      "source": "<div style=\"background-color:#e68867; padding:10px; border:2px solid black;\">\n    <h1><b>Quality | Ethics | Transparency</b></h1>\n</div>",
      "metadata": {}
    },
    {
      "id": "6668992f-3471-4fb1-83aa-b20c40b5512d",
      "cell_type": "markdown",
      "source": "<div style=\"background-color:#c7cbe9; padding:10px;border:2px solid black;\">\n<h2>🌿Cannabis Market Snapshot: Québec’s SQDC Landscape (July 2025)</h2>\n    \n🔹 **Author** : MagaliTrueAnalytics  \n🔹 **Date** : 2025-07-19 \n🔹 **Sources** : (https://github.com/MagaliTrueAnalytics/Portfolio/blob/main/Projet6/Data/)  \n🔹 **Objective** : This analysis aims to provide a comprehensive snapshot of Québec’s cannabis retail ecosystem as of July 2025.\n\nBy combining manually collected data and webscraped datasets, the project delivers an in-depth portrait of:\n\n- 🧬 **Product Offering**: Distribution of cannabis products across key categories (e.g. dried flower, hashish, pre-rolls), strain types (Indica, Sativa, Hybrid), and dominance profiles (THC, CBD, Balanced)\n- 💰 **Pricing Trends**: Average prices, price ranges, and comparative analysis across strains, producers, and categories\n- 🏪 **Retail Landscape**: Mapping of SQDC store expansion and catalog diversity across provinces\n- 📈 **Benchmarking Tool**: An interactive framework designed to support producers and stakeholders in comparing their brand’s retail presence, pricing strategy, and catalog footprint against competitors\n\nThe Power BI dashboard acts as both an analytical tool and strategic resource for anyone seeking to better understand Québec’s regulated cannabis market—from data enthusiasts to industry professionals.\n</div>",
      "metadata": {}
    },
    {
      "id": "ee5394b2-131a-4a3b-bac9-780eab8c48d6",
      "cell_type": "markdown",
      "source": "<div style=\"background-color:#c7cbe9; padding:10px;border:2px solid black;\">\n    \n<h2>📈 Dataset Presentation</h2>\n</div>",
      "metadata": {}
    },
    {
      "id": "67523364-4aa9-4abd-9667-5304973896cb",
      "cell_type": "markdown",
      "source": "## 📊 Dataset Presentation\n\nThis analysis relies on a combination of **manually collected** and **webscraped datasets**, focusing on the SQDC cannabis offering in Québec as of **July 2025**.\n\n### 📝 1. SQDC Website (Manual Collection)\nBetween **July 13 and 17, 2025**, product-level data was manually collected from the official SQDC website. The focus was on four key product categories representing over 80% of the catalog:\n- *Dried flower*\n- *Ground cannabis*\n- *Pre-rolls*\n- *Hashish*\n\nCollected information includes:\n- Producer and brand names\n- Product pricing\n- Strain type (Indica, Sativa, Hybrid)\n- Dominance profile (THC/CBD/Balanced)\n- Category breakdown\n\nA separate Excel file also consolidates high-level stats such as:\n- Total number of products across all categories (including beverages, edibles, extracts)\n- Distribution by strain, dominance, and category\n\n### 🕸️ 2. Weedcrawler.ca (Web Scraped Data)\n\nOn **July 17–18, 2025**, authorized web scraping was performed on [quebec.weedcrawler.ca](https://quebec.weedcrawler.ca) using Python scripts executed in **Visual Studio Code**.\n\nExtracted data includes:\n- SQDC store names and their opening dates\n- Brands and products listed per store\n\nThree custom Python scripts used during this process are available in this repository:\n- `weedcrawler.py`: Extracts SQDC store names and their opening dates\n- `SQDC_StoreID.py`: Retrieves unique store IDs to streamline store-specific URL navigation\n- `Produits_succursales.py`: Collects detailed product information per store\n\nAll data was exported and saved as CSV files for seamless integration into the analysis workflow.\n\n### 🌍 3. Location Enhancement\nThe store dataset was enriched with **latitude and longitude** information:\n- Geo-coordinates for each city were generated using a GenAI tool\n- For cities with multiple stores (e.g. Montréal, Québec City, Laval), precise geo-coordinates were manually retrieved via Google Maps to avoid limitations in scraping and reduce API complexity\n\n### 🆔 4. Data Preprocessing\nBefore importing into Power BI:\n- Unique IDs were generated for producers and brands using randomized Excel formulas\n- Data cleaning and structuring were carried out in **Power Query**, including transformations, table relations, and schema refinement",
      "metadata": {}
    },
    {
      "id": "8a0dc81f-470b-4ea6-8e67-fda5f2f75c81",
      "cell_type": "markdown",
      "source": "<div style=\"background-color:#c7cbe9; padding:10px;border:2px solid black;\">\n<h2>🧹ETL Process: Data Extraction, Transformation & Loading</h2>\n</div>",
      "metadata": {}
    },
    {
      "id": "7967e954-11be-4bbb-997d-82b032ce55cc",
      "cell_type": "markdown",
      "source": "The Power BI model ingests five data tables loaded into Power Query from the following sources:\n\n- **Produits_Marques_Prix_SQDC.xlsx** (manually collected from the official SQDC website), which includes three sheets:\n  - `Producteurs_SQDC`\n  - `Marques_Producteurs`\n  - `Produits_Prix`\n- **Succursales_map.csv** and **Succursales_Produits.csv** (web scraped using Python)\n\n#### 🔧 Data Cleaning & Transformation\n\nExtensive data cleansing operations were applied to ensure consistency and enable smooth semantic modeling. Key challenges emerged due to subtle text differences between manually collected and scraped datasets (e.g. apostrophes and special characters).\n\nSteps performed across all tables include:\n- Trimming and cleaning text fields\n- Converting text to uppercase\n- Replacing inconsistent values\n- Updating data types (e.g. price fields converted to fixed decimal numbers)\n\n#### 🧩 Table Preparation for Modeling\n\n- **Succursales_Produits**\n  - Split the `Marque-Nom` column using the `-` delimiter\n  - Created a new `Marque_Nom_Clean` column using M code\n\n- **Marques_Producteurs**\n  - Added `Marque_Nom_Clean` column for matching purposes\n\n- **Produits_Dominance**\n  - Created by duplicating `Produits_Prix` and retaining only relevant fields: `Categorie`, `Marque`, `Dominance`, and `Souche`\n\n- **Succursales_Produits** (continued)\n  - Left outer joined with `Marques_Producteurs` on `Marque_Nom_Clean` to add `Marque_ID` and `Producteur_ID`\n  - Left outer joined with `Produits_Dominance` using three keys (`Souche`, `Marque_ID`, `Souche`) to add `Dominance`\n\n#### 🔐 Anonymization Strategy\n\nTo protect brand and producer identities:\n- Added `Producteur_Alias` column in `Producteurs_SQDC` and `Marques_Producteurs` via M code\n- Added `Marque_Alias` column in `Marques_Producteurs`\n\n#### 🧮 Filtering for Active Producers\n\nTo focus the analysis on currently active producers:\n\n- Created the `Producteurs_ID_Actifs` table by duplicating `Succursales_Produits`, extracting `Producteur_ID`, and removing duplicates.  \n- This table was **not** loaded into the Power BI model but used as a filter via inner joins with:\n  - `Marques_Producteurs`\n  - `Producteurs_SQDC`\n  - `Produits_Prix`\n\nOnly producers referenced in the **Weedcrawler** dataset were retained for final analysis. \n\n🔗[Link for raw data and python script](https://github.com/MagaliTrueAnalytics/Portfolio/tree/main/Projet6/Data)",
      "metadata": {}
    },
    {
      "id": "456f66a7-19e1-48b2-ab5f-4b61f28832cd",
      "cell_type": "markdown",
      "source": "<div style=\"background-color:#c7cbe9; padding:10px;border:2px solid black;\">\n<h2>📊Analyze & Vizualisation</h2>\n</div>",
      "metadata": {}
    },
    {
      "id": "a36b89cd-8b49-485a-bc15-4bc81f9e2867",
      "cell_type": "markdown",
      "source": "The report was designed using dynamic visualizations supported by custom DAX measures to derive insights from structured data. Three key measures were created:\n\n- `PrixMoyen`: Calculates the average product price\n- `SuccursalesCumulees`: Tracks the cumulative expansion of SQDC stores over time\n- `TotalReferences`: Counts the total number of product references listed in stores\n\n#### 🧭 Page 1 — *Overview_Offer*\n\nThis page provides a high-level view of SQDC’s product coverage and store distribution:\n\n- 🗺️ **Map**: SQDC Store Network and Reference Count by Location\n- 📈 **Area Chart**: Cumulative Store Extension Over Time\n- 🍩 **Donut Chart**: Share of SQDC Product Offering by Province\n- 📊 **Bar Chart**: Producer Catalog Presence at SQDC, color-coded by province\n- 🌳 **Tree Map**: Product Breakdown by Category and Strain\n- 🍩 **Donut Chart**: Product Distribution by Category\n- 🍩 **Donut Chart**: Product Distribution by Dominance Type\n\n#### 💰 Page 2 — *Overview_Price*\n\nThis section focuses on pricing insights across product categories and strain profiles:\n\n- 📦 **Box Plot**: Price Distribution by Product Category\n- 📊 **Stacked Column Chart**: Product Spread Across Price Ranges by Category\n- 📈 **Multi-Column Chart**: Price Trends by Strain, Product Category, and Dominance Profile\n- 📊 **Stacked Bar Chart**: Average Price by Category and Strain Type\n\n#### 🧪 Page 3 — *Benchmarking*\n\nThis dashboard enables focused benchmarking analysis with filterable producer views:\n\n- 🎛️ Filters: by Product Category and by Producteur_Alias\n- 🧾 KPI Cards:\n  - Total Unique Products Referenced in SQDC Stores\n  - Retail Presence Across Store Locations\n  - Total Product References in All SQDC Stores\n  - Average Price per Gram\n- 📊 **Bar Chart**: Producer Catalog Presence by Province\n- 📋 **Table View**: Displays detailed pricing breakdown—Product Category, Strain, Minimum Price, Average Price, Maximum Price—based on producer selection\n\n🔗[link for Reports](https://github.com/MagaliTrueAnalytics/Portfolio/tree/main/Projet6/Report)\n",
      "metadata": {}
    },
    {
      "id": "44b2db93-2bca-4975-a1cd-f07980f9819f",
      "cell_type": "markdown",
      "source": "<div style=\"background-color:#c7cbe9; padding:10px;border:2px solid black;\">\n<h2>📣Data Insights Analysis</h2>\n</div>",
      "metadata": {}
    },
    {
      "id": "95df67d9-ff0f-4188-a027-e4bed68c0776",
      "cell_type": "markdown",
      "source": "#### 🏪 SQDC Retail Expansion\n\n- As of July 2025, **107 SQDC stores** are operating across Québec—up from **11 in 2018**.\n- Store openings per year show rapid growth between 2018 and 2021, followed by deceleration:\n  - 2018 (11), 2019 (21), 2020 (23), 2021 (25), 2022 (11), 2023 (6), 2024 (4), 2025 (6).\n- The Montréal Saint-Hubert store was permanently closed, per Google business records (removed from the data).\n\n#### 🍁 Market Representation by Producer\n\n- **Québec-based producers dominate** SQDC’s in-store product listings, representing **74.45%**, followed by **Ontario at 17.56%**.\n- The top five producers—**all from Québec**—account for a significant share of product references:\n  - #1 producer: 5,084 references\n  - #2 producer: 2,654 references\n  - #3–#5 range from ~2,100 to ~1,900 references\n- Ontario’s leading producer ranks sixth with 1,861 references.\n- This reflects strong prioritization of **local producers** in the SQDC retail environment.\n\n#### 🌿 Product Types & Strain Dominance\n\n- Product breakdown in SQDC stores:\n  - **Dried Flower**: 54.28% (19,517 references)\n  - **Pre-rolls**: 29% (10,643)\n  - **Hashish**: 13.5% (4,963)\n  - **Ground Cannabis**: 3.23% (1,184)\n- Dominance profile by reference count:\n  - **THC-dominant**: 76.48%\n  - **Balanced**: 15.62%\n  - **CBD-dominant**: 7.9%\n\n#### 💵 Price Analysis by Category & Strain\n\n- **Hashish** and **Pre-rolls** show wide price variability:\n  - Hashish range: 9.77 to 29.90CAD/g (avg. 16.27CAD/g)\n  - Pre-rolls range: 4.57 to 23.50CAD/g (avg. 10.31CAD/g)\n- **Dried Flower** pricing is more stable:\n  - Avg. 7.69CAD/g, median 7.32CAD/g, max 14.29CAD/g\n- **Ground Cannabis** has the lowest average price:\n  - Avg. 5.08CAD/g, 75% of products below 4.79CAD/g\n\n- Strain-based pricing confirms:\n  - *Derived strains* are most expensive across all categories except dried flower\n    - Ground: 12.83CAD/g\n    - Hashish: 16.06CAD/g\n    - Pre-rolls: 16.14CAD/g\n  - No derived strains are present in dried flower\n\n- Within the same product category, strain types **Indica**, **Sativa**, and **Hybrid** show minimal price variance:\n  - Pre-rolls: ~8.68–8.96CAD/g\n  - Dried Flower: ~7.31–7.51CAD/g\n  - Ground: ~4.50–4.58CAD/g\n\n#### 📊 Price Distribution Patterns\n\n- Major price ranges by category:\n  - 4.71–9.42CAD/g: Most products across categories (esp. dried flower, pre-rolls)\n  - 3.14–4.71CAD/g: Primarily ground cannabis\n  - 12.56–15.70CAD/g: Bulk of hashish products\n- Outliers:\n  - 2 hashish products priced above 29.80CAD/g—both from the same brand\n\n#### 🔎 Dominance vs. Pricing\n\n- Excluding derived strains, **CBD-dominant products** are generally less expensive than THC or Balanced:\n  - Exception: Hybrid pre-rolls, where THC averages slightly lower than CBD\n- **Balanced products** consistently show higher average prices:\n  - Dried Flower: 7.49CAD/g (vs. THC 7.45CAD/g, CBD 7.05CAD/g)\n  - Ground Cannabis: 8.80CAD/g (vs. THC 8.73CAD/g, CBD 8.69CAD/g)\n  - Hashish: 17.67CAD/g (vs. THC 15.82CAD/g, CBD 12.36CAD/g)\n\n#### 📌 Benchmarking Report\n\nNo aggregated insights provided for the *Benchmarking* page due to its individualized use case. This section enables producers to apply filters (`Category`, `Producteur_Alias`) to access tailored KPIs and pricing tables specific to their catalog and retail footprint.",
      "metadata": {}
    },
    {
      "id": "25896ee8-fb20-4ef4-a2dd-41dd441e6166",
      "cell_type": "markdown",
      "source": "<div style=\"background-color:#c7cbe9; padding:10px;border:2px solid black;\">\n<h2>🙏 Acknowledgements</h2>\n</div>",
      "metadata": {}
    },
    {
      "id": "d036f824-4c50-4aa1-9ac2-9d4004b20ba5",
      "cell_type": "markdown",
      "source": "A heartfelt thank you to **Alexandre Voyer**, creator of the [Weedcrawler](https://weedcrawler.ca/) platform, for generously granting permission to access and scrape data from his site. Weedcrawler is a brilliantly designed, user-friendly tool that provides real-time visibility into SQDC stock levels—an essential resource for cannabis producers seeking to stand out in a competitive market.\n\nThis project would not have been possible without Alexandre’s openness and support. His platform played a pivotal role in enabling meaningful analysis and insights throughout this report.",
      "metadata": {}
    },
    {
      "id": "77fd63ae-e233-42c5-9481-b3cfa168983d",
      "cell_type": "markdown",
      "source": "<div style=\"background-color:#c7cbe9; padding:10px;border:2px solid black;\">\n<h2>🛡️ Intellectual Property & Usage Notice</h2>\n</div>",
      "metadata": {}
    },
    {
      "id": "e736a7ef-3dcb-4ebf-9036-0f6b367fab99",
      "cell_type": "markdown",
      "source": "This notebook and its contents are the result of independent data collection, transformation, and visualization efforts as part of the **Cannabis Market Snapshot: Québec’s SQDC Landscape (July 2025)** project. The materials, analyses, and visualizations presented here are for educational and informational purposes only.\n\nPlease respect the terms of use of the original data sources, including [Weedcrawler.ca](https://quebec.weedcrawler.ca), and do not reuse the scraped data commercially without appropriate authorization. Any benchmarking insights are intended to support fair market transparency and strategic exploration within the cannabis industry.\n\nThe author retains rights over the code, structure, and curated visualizations. If you wish to reference or reuse elements of this project, please credit appropriately or reach out for collaboration.",
      "metadata": {}
    }
  ]
}