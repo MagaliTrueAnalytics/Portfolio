{
  "metadata": {
    "kernelspec": {
      "name": "python",
      "display_name": "Python (Pyodide)",
      "language": "python"
    },
    "language_info": {
      "codemirror_mode": {
        "name": "python",
        "version": 3
      },
      "file_extension": ".py",
      "mimetype": "text/x-python",
      "name": "python",
      "nbconvert_exporter": "python",
      "pygments_lexer": "ipython3",
      "version": "3.8"
    }
  },
  "nbformat_minor": 5,
  "nbformat": 4,
  "cells": [
    {
      "id": "20f268b5-729e-4c9e-8d61-1318bcf8a92d",
      "cell_type": "markdown",
      "source": "<div style=\"background-color:#e68867; padding:10px; border:2px solid black;\">\n    <h1><b>Quality | Ethics | Transparency</b></h1>\n</div>",
      "metadata": {}
    },
    {
      "id": "6668992f-3471-4fb1-83aa-b20c40b5512d",
      "cell_type": "markdown",
      "source": "<div style=\"background-color:#c7cbe9; padding:10px;border:2px solid black;\">\n<h2>📌 Cannabis Production & Sales Analysis: A Power BI Exploration 🌿</h2>\n    \n🔹 **Author** : MagaliTrueAnalytics  \n🔹 **Date** : 2025-06-13 \n🔹 **Sources** : (https://github.com/MagaliTrueAnalytics/Portfolio/blob/main/Projet4/Data/)  \n🔹 **Objective** : This Power BI report is designed to provide a **comprehensive data-driven analysis** of cannabis production and sales performance. By leveraging interactive dashboards and predictive modeling, the report aims to:  \n\n✅ **Analyze Sales Performance** – Identify revenue trends, key influencers of sales growth, and factors impacting yield efficiency.  \n✅ **Optimize Production Insights** – Assess production efficiency, yield rates, and resource allocation to improve overall performance.  \n✅ **Revenue Forecasting** – Implement predictive analytics with a 95% confidence interval to estimate future earnings based on historical data.  \n✅ **Visualize Key Business Metrics** – Develop interactive dashboards integrating slicers for Date/Month and Product (strain) to enhance strategic decision-making.  \n\nThis project showcases the **power of data visualization** in understanding sales dynamics and optimizing production strategies, demonstrating how Power BI can drive **operational efficiency and revenue growth** in the cannabis industry.  \n\n</div>",
      "metadata": {}
    },
    {
      "id": "ee5394b2-131a-4a3b-bac9-780eab8c48d6",
      "cell_type": "markdown",
      "source": "<div style=\"background-color:#c7cbe9; padding:10px;border:2px solid black;\">\n    \n<h2>📈 Dataset Presentation</h2>\n</div>",
      "metadata": {}
    },
    {
      "id": "67523364-4aa9-4abd-9667-5304973896cb",
      "cell_type": "markdown",
      "source": "For this project, a **synthetic dataset** was generated using GenAI (Grok) to simulate one year of operations for a cannabis production company. The dataset includes **sales and production data**, enabling the creation of a **meaningful Power BI report** with key insights into revenue trends, production efficiency, and forecasting models.  \n\n✅ **Dataset Format** → A CSV file containing **36 rows**, structured for easy visualization and analysis.  \n✅ **Focus** → **Insights & report creation** rather than data quality or real-world statistical modeling.  \n✅ **Scope & Simulation** → The dataset represents a **simplified business case**, ensuring that all key metrics are covered while keeping the complexity manageable.  \n✅ **No Data Quality Challenges** → As the dataset was artificially generated, issues such as missing values, inconsistencies, or outliers were **not a primary concern**.  \n\n**<h4>Objective of Using Synthetic Data</h4>**\nThe goal was to **build a Power BI report** showcasing:  \n- **Sales and production analytics** with key performance indicators.  \n- **Forecasting models** for revenue projections.  \n- **Interactive data visualizations** to enhance decision-making.  \n\nSince the dataset is small, the emphasis remains on **structuring and presenting data insights**, rather than performing deep statistical analysis. This approach ensures a **clean and informative report**, ideal for inclusion in a professional portfolio.  ",
      "metadata": {}
    },
    {
      "id": "8a0dc81f-470b-4ea6-8e67-fda5f2f75c81",
      "cell_type": "markdown",
      "source": "<div style=\"background-color:#c7cbe9; padding:10px;border:2px solid black;\">\n<h2>🧹ETL Process: Data Extraction, Transformation & Loading</h2>\n</div>",
      "metadata": {}
    },
    {
      "id": "ef374970-dbe2-4808-8577-b6ea62ace376",
      "cell_type": "markdown",
      "source": "For this project, **Power BI Desktop** was used to perform the **ETL process** on the synthetic dataset. The following steps were carried out to prepare the data for analysis and visualization:  \n\n#### **1️⃣ Data Extraction**  \n- The dataset was imported into Power BI via **Get Data → CSV** to establish the initial connection.  \n- Source data contained **sales and production figures** for a simulated cannabis company.  \n\n#### **2️⃣ Data Transformation (Power Query)**  \nBefore conducting analysis, key **data formatting and cleaning** steps were applied in **Power Query**:  \n✅ **Data Types Formatting** – Adjusted currency values and decimal precision for consistency.  \n✅ **Data Quality Checks** – Verified **missing values, duplicates, outliers**, and column statistics.  \n✅ **Month Column Creation** – Generated a **Month (text format)** column using **M language** for improved filtering in reports. \n✅ **Data Validation** – Ensured all transformations maintained integrity without introducing inconsistencies.  \n\n#### **3️⃣ Data Loading & Modeling**  \n\nAfter transforming the dataset in **Power Query**, the cleaned data was loaded into Power BI for **exploration and analysis**. Since this dataset follows a **flat structure (single table)**, **no relationships** needed to be set up in the data model.\n\nKey steps during the loading phase included:  \n\n✅ **Importing the processed table into Power BI** for visualization.  \n✅ **Creating DAX measures** to enhance business insights:  \n   - `Total Revenue` – Sum of all sales revenue.  \n   - `Total Margin ($)` – Gross profit generated from sales.  \n   - `Total Margin (%)` – Profit margin percentage for financial analysis.  \n   - `Weighted Customer Satisfaction` – Customer satisfaction weighted by sales volume, ensuring that high-selling products impact the overall satisfaction metric proportionally. \n\n✅ **Adding DAX calculated columns** for further analysis:  \n   - `Margin $` – Net profit per product.  \n   - `Margin %` – Profit percentage for comparative analysis.  \n\n✅ **Setting up slicers** (Date/Month & Product strain) to allow **interactive filtering** of insights.  \n\nSince the dataset does not require **complex relational modeling**, the focus was on **optimizing calculated measures** and ensuring that Power BI visualizations effectively capture business trends. 🚀  ",
      "metadata": {}
    },
    {
      "id": "456f66a7-19e1-48b2-ab5f-4b61f28832cd",
      "cell_type": "markdown",
      "source": "<div style=\"background-color:#c7cbe9; padding:10px;border:2px solid black;\">\n<h2>📊Report</h2>\n</div>",
      "metadata": {}
    },
    {
      "id": "86491eaf-d4da-4593-9d1f-8875ae34357a",
      "cell_type": "markdown",
      "source": "### **Key Metrics & Insights of the Power BI Report**  \n\nThis Power BI report provides a **comprehensive analysis** of cannabis **sales and production**, focusing on revenue forecasting, growth optimization, and key business drivers. The report leverages **interactive slicers** for **Date/Month & Product (strain)**, enabling dynamic filtering and deeper insights.\n\n#### **📈 Sales Analysis**  \n✅ **Total Revenue (Card)** – Summarized earnings from cannabis sales.  \n✅ **Total Margin ($ & %) (Card)** – Profitability metrics showing both absolute values and percentage margins.  \n✅ **Revenue Trend by Segment (Line Chart)** – Visualizing how different customer segments contribute to revenue growth.  \n✅ **Sales Volume Trend by Strain Type (Line Chart)** – Tracking volume trends for Indica, Hybrid, and Sativa strains.  \n✅ **Revenue Distribution by Segment (Pie Chart)** – Comparative breakdown of revenue sources per customer category.  \n✅ **Sales Volume by Strain (Pie Chart)** – Identifying which strains generate the highest sales volume.  \n✅ **Total Revenue and Forecast (Line Chart)** – Predictive modeling estimating future earnings with a **95% confidence interval**.  \n✅ **Key Sales Influencers (1 Page)** – AI-driven insights identifying **top revenue drivers and correlations**.  \n\n#### **🌱 Production Analysis**  \n✅ **Average Customer Satisfaction by Segment (Tree Map)** – Evaluating satisfaction levels across business groups (Retailers, Wholesalers, Direct Consumers).  \n✅ **Customer Satisfaction Weighted by Volume Sales (Card)** – Adjusted satisfaction scores reflecting actual sales impact.  \n✅ **Total Yield by Strain by Date (Line Chart)** – Performance trends for cannabis production across time periods.  \n✅ **Total Production Cost per kg (Card)** – Evaluating production cost-efficiency at the unit level.  \n✅ **Growth Rate by Humidity, Sized by Yield (Bubble Plot)** – Analyzing how environmental factors affect strain growth rates.  \n✅ **Average Humidity Rate by Date (Line Chart)** – Tracking humidity variations influencing yield outcomes.  \n✅ **Average Temperature by Date (Line Chart)** – Assessing temperature patterns affecting growth cycles.  \n✅ **Total Yield (kg) (Card)** – Summarizing overall production output.  \n✅ **Total Production Cost by Strain (Column Chart)** – Breakdown of cost structure per strain.  \n✅ **Average Growth by Strain (Horizontal Bar Chart)** – Comparative visualization of strain growth efficiency.  \n✅ **Average Growth Rate (Card)** – Displaying the **mean growth rate** across cannabis strains.  \n✅ **Key Production Yield Influencers (1 Page)** – AI-powered insights highlighting **optimal conditions for yield maximization**.  \n\nBy integrating **forecasting models, data analytics, and AI-driven insights**, this report strengthens **strategic decision-making**, supporting **sales growth, production optimization, and market expansion** in the cannabis industry. 🚀",
      "metadata": {}
    },
    {
      "id": "44b2db93-2bca-4975-a1cd-f07980f9819f",
      "cell_type": "markdown",
      "source": "<div style=\"background-color:#c7cbe9; padding:10px;border:2px solid black;\">\n<h2>📣Data Insights Analysis with Power BI AI Tools</h2>\n</div>",
      "metadata": {}
    },
    {
      "id": "95df67d9-ff0f-4188-a027-e4bed68c0776",
      "cell_type": "markdown",
      "source": "Leveraging Power BI's built-in **AI-driven capabilities**, this report extracts meaningful insights into **sales performance and production efficiency** using **Q&A, Analyze, and Key Influencers** features.\nPower BI’s AI tools enhanced the depth of the analysis by **automating trend identification**, **highlighting influential factors**, and enabling **real-time exploration of data patterns**, all without requiring manual hypothesis testing.",
      "metadata": {}
    },
    {
      "id": "35594ae6-e900-410c-9dc5-f75a9861f076",
      "cell_type": "markdown",
      "source": "### **🔍 Key Insights from the Power BI Report**\n\n#### **📈 Sales & Profitability**  \n- **Total Revenue**: 1.24M\\$ | **Total Margin**: 971.97K\\$ | **Profit Margin**: 132.40%  \n- The **Retailer segment** contributes **the highest revenue (36.41%)**, followed by **Wholesalers (31.55%)** and **Direct Consumers (32.04%)**.  \n- The **Hybrid strain** has the **highest profit margin (50.76%)**, sold exclusively to **Direct Consumers**.  \n- **Indica strain** drives the **highest sales volume (38.46%)** but is **only the second-best revenue performer**.  \n- Revenue is **directly tied to sales volume**, with a **16.46kg increase** generating a **4.33K\\$ boost** in revenue.  \n- **Production yield** and **customer satisfaction** are also significant sales drivers. An **increase in satisfaction by 4.98% raises average revenue by 2.29K\\$**.  \n\n#### **🌱 Production Efficiency & Growth Optimization**  \n- **Indica has the lowest production cost (1.30K\\$ per kg)** vs. **Hybrid (1.38K\\$)** and **Sativa (1.44K\\$)**.  \n- **Indica thrives under high humidity**, growing best at **72–73% humidity**, with yields reaching **440–460kg**.  \n- **Hybrid and Sativa** perform better at **69–70% and 67–68% humidity, respectively**, with slightly lower yield efficiencies.  \n- **Indica demonstrates the highest growth rate (3%)**, followed by **Sativa (2.80%)** and **Hybrid (2.60%)**.  \n- A **rise in humidity (+1.42%) in October 2024 boosted total production yield (+4.92%)**, benefiting **Indica the most**.\n \n#### **📊 October 2024 Revenue Surge: Impact of Production Yield**  \n\nPower BI’s **AI-driven analysis** reveals that the **6.3% revenue increase across all segments** in **October 2024** was directly tied to **production yield improvements**.  \n\nUsing **Analyze**, the report highlights that **total production yield rose by 4.92%**, contributing to the overall **sales growth**.  \n- **Hybrid strain showed the highest yield increase (+5.56%)**, followed by **Sativa (+5.00%)** and **Indica (+4.35%)**.  \n- The **Key Influencers tool pinpointed humidity increases** as the **primary factor driving higher production yields**.  \n\nA **+1.42% increase in humidity** during this period led to a **direct boost in total yield**, reinforcing the importance of **environmental conditions** in optimizing cannabis production efficiency.  \n\nThese findings validate the **strong link between yield and revenue**, emphasizing the need for **careful climate management** to sustain **long-term growth trends**. \n\n#### **🎯 Customer Satisfaction & Strategic Forecasting**  \n- **Direct Consumers report the highest satisfaction (95.74%)**, followed by **Retailers (90.54%)** and **Wholesalers (85.63%)**.  \n- **Revenue forecast for the next 10 months predicts a steady increase** from **121K\\$** to **139.6K\\$/month**, with **95% confidence**.  \n- **October 2024 saw a 6.3% increase in total sales** across all strains, aligned with a **rise in production yield**.  \n\n### **🚀 Strategic Recommendations**  \n\n✅ **Sales & Market Positioning**  \n- **Expand Indica distribution in Retailer segments** to leverage **high-volume sales potential**.  \n- **Enhance Wholesaler satisfaction** (currently 85.63%) to **increase Sativa’s revenue contribution**.  \n- **Optimize Hybrid marketing towards Direct Consumers**, as they are **already highly satisfied (95.74%)**.  \n\n✅ **Production Optimization**  \n- Maintain **humidity above 67%** for stable growth rates, ensuring **optimal Indica production at 72% humidity**.  \n- Fine-tune **temperature control**, as **temperature spikes in August (+3.57%) showed no impact on yield or sales**.  \n- **Monitor environmental conditions** to maximize yield efficiency **without excessive cost increases**.  \n\nThis analysis **highlights actionable strategies** that can **increase revenue, optimize strain production, and enhance customer retention**—a valuable framework for driving **sustainable growth in the cannabis industry**. 🚀  ",
      "metadata": {}
    }
  ]
}